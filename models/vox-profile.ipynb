{
 "cells": [
  {
   "cell_type": "code",
   "execution_count": null,
   "id": "5307abec",
   "metadata": {},
   "outputs": [],
   "source": [
    "import pandas as pd\n",
    "import matplotlib.pyplot as plt\n",
    "from IPython.display import display\n",
    "\n",
    "import torch\n",
    "import torch.nn.functional as F\n",
    "from vox_profile_release.src.model.emotion.whisper_emotion import WhisperWrapper\n",
    "\n",
    "from torchcodec.decoders import AudioDecoder\n",
    "\n",
    "from torchinfo import summary"
   ]
  },
  {
   "cell_type": "code",
   "execution_count": null,
   "id": "29ff4e1c",
   "metadata": {},
   "outputs": [],
   "source": [
    "pd.set_option('display.max_colwidth', None)\n",
    "pd.set_option('display.max_rows', 600)\n",
    "\n",
    "device = 'cuda:0' if torch.cuda.is_available() else 'cpu'\n",
    "torch_dtype = torch.float16 if torch.cuda.is_available() else torch.float32\n",
    "device\n",
    "\n",
    "PYTORCH_CUDA_ALLOC_CONF={'expandable_segments':True}"
   ]
  },
  {
   "cell_type": "code",
   "execution_count": null,
   "id": "5ddac021",
   "metadata": {},
   "outputs": [],
   "source": [
    "SAMPLE_RATE = 16000\n",
    "DURATION = 15\n",
    "CHANNELS = 1\n",
    "MAX_LENGTH = SAMPLE_RATE * DURATION"
   ]
  },
  {
   "cell_type": "code",
   "execution_count": null,
   "id": "a3c06c07",
   "metadata": {},
   "outputs": [],
   "source": [
    "rec_path = 'inputs/rec_pre.mp3'\n",
    "seg_path = 'outputs/transcript.parquet'"
   ]
  },
  {
   "cell_type": "code",
   "execution_count": null,
   "id": "61880bf0",
   "metadata": {},
   "outputs": [],
   "source": [
    "segments = pd.read_parquet(seg_path)\n",
    "segments"
   ]
  },
  {
   "cell_type": "code",
   "execution_count": null,
   "id": "b8a9a349",
   "metadata": {},
   "outputs": [],
   "source": [
    "model = WhisperWrapper.from_pretrained('tiantiaf/whisper-large-v3-msp-podcast-emotion').to(device)"
   ]
  },
  {
   "cell_type": "code",
   "execution_count": null,
   "id": "d88fc187",
   "metadata": {},
   "outputs": [],
   "source": [
    "summary(model)"
   ]
  },
  {
   "cell_type": "code",
   "execution_count": null,
   "id": "a720daa6",
   "metadata": {},
   "outputs": [],
   "source": [
    "decoder = AudioDecoder(rec_path, sample_rate=SAMPLE_RATE, num_channels=CHANNELS)\n",
    "\n",
    "samples = []\n",
    "for start, end, text in segments.to_numpy():\n",
    "    sample = decoder.get_samples_played_in_range(start, end).data.squeeze(0).to(device)  # returns 1D array/tensor\n",
    "    if len(sample) < MAX_LENGTH:\n",
    "        pad_len = MAX_LENGTH - len(sample)\n",
    "        sample = torch.cat([sample, torch.zeros(pad_len)])\n",
    "    else:\n",
    "        sample = sample[:MAX_LENGTH]\n",
    "\n",
    "    samples.append({'audio': sample, 'start': start, 'end': end, 'text': text})"
   ]
  },
  {
   "cell_type": "code",
   "execution_count": null,
   "id": "bb1017d8",
   "metadata": {},
   "outputs": [],
   "source": [
    "samples[-1]"
   ]
  },
  {
   "cell_type": "code",
   "execution_count": null,
   "id": "b1245e64",
   "metadata": {},
   "outputs": [],
   "source": [
    "logits, embedding, _, _, _, _ = model([sample['audio'] for sample in samples[:-1]], return_feature=True)"
   ]
  },
  {
   "cell_type": "code",
   "execution_count": null,
   "id": "c234ff78",
   "metadata": {},
   "outputs": [],
   "source": [
    "emotion_list = [\n",
    "    'Anger', \n",
    "    'Contempt', \n",
    "    'Disgust', \n",
    "    'Fear', \n",
    "    'Happiness', \n",
    "    'Neutral', \n",
    "    'Sadness', \n",
    "    'Surprise', \n",
    "    'Other'\n",
    "]\n",
    "\n",
    "# Probability\n",
    "emotion_prob = F.softmax(logits, dim=1)\n",
    "emotion_list[torch.argmax(emotion_prob).detach().cpu().item()]"
   ]
  },
  {
   "cell_type": "code",
   "execution_count": null,
   "id": "1548c18e",
   "metadata": {},
   "outputs": [],
   "source": []
  }
 ],
 "metadata": {
  "kernelspec": {
   "display_name": "vox-profile",
   "language": "python",
   "name": "vox-profile"
  },
  "language_info": {
   "codemirror_mode": {
    "name": "ipython",
    "version": 3
   },
   "file_extension": ".py",
   "mimetype": "text/x-python",
   "name": "python",
   "nbconvert_exporter": "python",
   "pygments_lexer": "ipython3",
   "version": "3.13.3"
  }
 },
 "nbformat": 4,
 "nbformat_minor": 5
}
